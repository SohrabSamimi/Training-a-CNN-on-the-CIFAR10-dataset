{
  "cells": [
    {
      "cell_type": "code",
      "execution_count": 79,
      "metadata": {
        "id": "_N7NinMp6HJG"
      },
      "outputs": [],
      "source": [
        "import math\n",
        "import torch\n",
        "import torch.nn as nn\n",
        "device = torch.device('cuda:0')\n",
        "\n",
        "class RangeDataset(torch.utils.data.Dataset):\n",
        "  def __init__(self, start, end, step=1):\n",
        "    self.start = start\n",
        "    self.end = end\n",
        "    self.step = step\n",
        "\n",
        "  def __len__(self):\n",
        "    return math.ceil((self.end - self.start) / self.step)\n",
        "#ne pas confondre ceiling(toit) et floor(sol)   \n",
        "\n",
        "  def __getitem__(self, index):\n",
        "    value = self.start + index * self.step\n",
        "    assert value < self.end\n",
        "    return value"
      ]
    },
    {
      "cell_type": "code",
      "execution_count": 80,
      "metadata": {
        "colab": {
          "base_uri": "https://localhost:8080/"
        },
        "id": "L9upmV-T6HJI",
        "outputId": "45e6897a-6710-46a4-c7ac-56de8d6ec1a2"
      },
      "outputs": [
        {
          "output_type": "stream",
          "name": "stdout",
          "text": [
            "5\n"
          ]
        }
      ],
      "source": [
        "dataset = RangeDataset(0, 10, 2)\n",
        "print(len(dataset))"
      ]
    },
    {
      "cell_type": "code",
      "execution_count": 81,
      "metadata": {
        "colab": {
          "base_uri": "https://localhost:8080/"
        },
        "id": "xM3oWDnJ6HJK",
        "outputId": "e3c89586-da9c-4438-df2d-2a565d1d03d4"
      },
      "outputs": [
        {
          "output_type": "stream",
          "name": "stdout",
          "text": [
            "0 tensor([6, 7, 0, 5, 4, 8, 2, 1, 3])\n"
          ]
        }
      ],
      "source": [
        "dataset = RangeDataset(0,9)\n",
        "data_loader = torch.utils.data.DataLoader(\n",
        "dataset,\n",
        "batch_size=9, #by default batch_size is 1\n",
        "shuffle=True, #to have the data reshuffled at every epoch\n",
        "drop_last=True    \n",
        ")\n",
        "\n",
        "for i,batch in enumerate(data_loader):\n",
        "    print(i,batch)"
      ]
    },
    {
      "cell_type": "code",
      "execution_count": 82,
      "metadata": {
        "colab": {
          "base_uri": "https://localhost:8080/"
        },
        "id": "bkLkJDBU6HJL",
        "outputId": "b5ddfc1e-82a9-4436-f182-69e267335781"
      },
      "outputs": [
        {
          "output_type": "stream",
          "name": "stdout",
          "text": [
            "0\n",
            "1\n",
            "2\n",
            "3\n"
          ]
        }
      ],
      "source": [
        "dataset_iter = iter(dataset)\n",
        "print(next(dataset_iter))\n",
        "print(next(dataset_iter))\n",
        "print(next(dataset_iter))\n",
        "print(next(dataset_iter))"
      ]
    },
    {
      "cell_type": "code",
      "execution_count": 83,
      "metadata": {
        "id": "i5N1BqKo6HJM"
      },
      "outputs": [],
      "source": [
        "%matplotlib inline"
      ]
    },
    {
      "cell_type": "code",
      "execution_count": 84,
      "metadata": {
        "id": "ijyuuTIM6HJM"
      },
      "outputs": [],
      "source": [
        "import torch\n",
        "import numpy as np\n",
        "import torchvision\n",
        "import torchvision.transforms as transforms\n",
        "import matplotlib.pyplot as plt"
      ]
    },
    {
      "cell_type": "code",
      "execution_count": 85,
      "metadata": {
        "colab": {
          "base_uri": "https://localhost:8080/"
        },
        "id": "Dh8ZsT096HJN",
        "outputId": "24d4ee6e-5976-4738-e48a-b3dd65860535"
      },
      "outputs": [
        {
          "output_type": "stream",
          "name": "stdout",
          "text": [
            "Files already downloaded and verified\n"
          ]
        },
        {
          "output_type": "stream",
          "name": "stderr",
          "text": [
            "/usr/local/lib/python3.8/dist-packages/torch/utils/data/dataloader.py:554: UserWarning: This DataLoader will create 4 worker processes in total. Our suggested max number of worker in current system is 2, which is smaller than what this DataLoader is going to create. Please be aware that excessive worker creation might get DataLoader running slow or even freeze, lower the worker number to avoid potential slowness/freeze if necessary.\n",
            "  warnings.warn(_create_warning_msg(\n"
          ]
        },
        {
          "output_type": "stream",
          "name": "stdout",
          "text": [
            "Files already downloaded and verified\n"
          ]
        }
      ],
      "source": [
        "transform = transforms.Compose(\n",
        "             [transforms.ToTensor(),\n",
        "             transforms.Normalize((0.5,0.5,0.5),(0.5,0.5,0.5))])\n",
        "\n",
        "trainset = torchvision.datasets.CIFAR10(root='./data',train=True,\n",
        "                                        download=True,transform=transform)  \n",
        "\n",
        "trainloader = torch.utils.data.DataLoader(trainset,batch_size=30,num_workers=4,\n",
        "                                          shuffle=True)\n",
        "\n",
        "testset = torchvision.datasets.CIFAR10(root='./data', train=False,\n",
        "                                       download=True, transform=transform)\n",
        "testloader = torch.utils.data.DataLoader(testset, batch_size=30,num_workers=4,\n",
        "                                         shuffle=False)\n",
        "\n",
        "classes = ('plane', 'car', 'bird', 'cat',\n",
        "           'deer', 'dog', 'frog', 'horse', 'ship', 'truck')                                          "
      ]
    },
    {
      "cell_type": "code",
      "execution_count": 86,
      "metadata": {
        "colab": {
          "base_uri": "https://localhost:8080/"
        },
        "id": "9mBjdSTn6HJO",
        "outputId": "8400aa1d-aa19-48fc-edd7-330ecc651530"
      },
      "outputs": [
        {
          "output_type": "stream",
          "name": "stdout",
          "text": [
            "total 8\n",
            "drwxr-xr-x 3 root root 4096 Jan 18 12:50 \u001b[0m\u001b[01;34mdata\u001b[0m/\n",
            "drwxr-xr-x 1 root root 4096 Jan 13 14:34 \u001b[01;34msample_data\u001b[0m/\n",
            "total 166512\n",
            "drwxr-xr-x 2 2156 1103      4096 Jun  4  2009 \u001b[0m\u001b[01;34mcifar-10-batches-py\u001b[0m/\n",
            "-rw-r--r-- 1 root root 170498071 Jan 18 12:50 cifar-10-python.tar.gz\n",
            "total 181876\n",
            "-rw-r--r-- 1 2156 1103      158 Mar 31  2009 batches.meta\n",
            "-rw-r--r-- 1 2156 1103 31035704 Mar 31  2009 data_batch_1\n",
            "-rw-r--r-- 1 2156 1103 31035320 Mar 31  2009 data_batch_2\n",
            "-rw-r--r-- 1 2156 1103 31035999 Mar 31  2009 data_batch_3\n",
            "-rw-r--r-- 1 2156 1103 31035696 Mar 31  2009 data_batch_4\n",
            "-rw-r--r-- 1 2156 1103 31035623 Mar 31  2009 data_batch_5\n",
            "-rw-r--r-- 1 2156 1103       88 Jun  4  2009 readme.html\n",
            "-rw-r--r-- 1 2156 1103 31035526 Mar 31  2009 test_batch\n"
          ]
        }
      ],
      "source": [
        "%pwd\n",
        "%ls -l\n",
        "%ls -l ./data\n",
        "%ls -l ./data/cifar-10-batches-py/"
      ]
    },
    {
      "cell_type": "code",
      "execution_count": 87,
      "metadata": {
        "id": "tOaR5lm86HJO"
      },
      "outputs": [],
      "source": [
        "def imshow(img):\n",
        "    a = img/2 + 0.5\n",
        "    npimg = a.numpy()\n",
        "    plt.imshow(np.transpose(a,(1,2,0)))\n",
        "    plt.show()"
      ]
    },
    {
      "cell_type": "markdown",
      "source": [
        "We show below 10 images of the dataset and then print the associated class"
      ],
      "metadata": {
        "id": "2sdP_ymN7qkp"
      }
    },
    {
      "cell_type": "code",
      "execution_count": 88,
      "metadata": {
        "colab": {
          "base_uri": "https://localhost:8080/",
          "height": 104
        },
        "id": "84cQRend6HJP",
        "outputId": "e69e963f-3822-41c9-9579-e808d9466a7b"
      },
      "outputs": [
        {
          "output_type": "stream",
          "name": "stdout",
          "text": [
            "torch.Size([30, 3, 32, 32])\n"
          ]
        },
        {
          "output_type": "display_data",
          "data": {
            "text/plain": [
              "<Figure size 432x288 with 1 Axes>"
            ],
            "image/png": "[encoded data removed]"
          },
          "metadata": {
            "needs_background": "light"
          }
        }
      ],
      "source": [
        "dataiter = iter(trainloader)\n",
        "images,labels = next(dataiter)\n",
        "print(images.shape)\n",
        "imshow(torchvision.utils.make_grid(images[:10],nrow=10))\n"
      ]
    },
    {
      "cell_type": "code",
      "execution_count": 89,
      "metadata": {
        "colab": {
          "base_uri": "https://localhost:8080/"
        },
        "id": "vlMLpMY-6HJR",
        "outputId": "b421c838-b35d-4786-c7fc-eba482157c9b"
      },
      "outputs": [
        {
          "output_type": "stream",
          "name": "stdout",
          "text": [
            "  car  deer  ship  deer   dog  ship  bird   dog  bird  deer\n"
          ]
        }
      ],
      "source": [
        "print(' '.join('%5s' % classes[labels[j]] for j in range(10)))"
      ]
    },
    {
      "cell_type": "code",
      "execution_count": 90,
      "metadata": {
        "id": "1iF3T4Ne6HJS"
      },
      "outputs": [],
      "source": [
        "import torch.nn.functional as F\n",
        "\n",
        "class ConvNet(nn.Module):\n",
        "\n",
        "    def __init__(self):\n",
        "        super(ConvNet,self).__init__()\n",
        "\n",
        "        self.conv1 = nn.Conv2d(3,6,5)     # 3 is the nb of input channels(RGB image),\n",
        "                                          # 6 is the desired number of output channels, 5 is the kernel size\n",
        "        self.max_pool = nn.MaxPool2d(2,2) # reduces (again) the image size by taking the max over 2x2 patches\n",
        "        self.conv2 = nn.Conv2d(6,16,5)\n",
        "        self.fc1 = nn.Linear(16*5*5,120) # to understand why we use 16*5*5 take a look at the forward below\n",
        "        self.fc2 = nn.Linear(120, 84)\n",
        "        self.fc3 = nn.Linear(84, 10)\n",
        "        # we use 10 as the final number of neurons because there are 10 classes\n",
        "\n",
        "    def forward(self,x):\n",
        "        \n",
        "        x = self.max_pool(F.relu(self.conv1(x)))   \n",
        "        x = self.max_pool(F.relu(self.conv2(x))) \n",
        "        x = x.view(-1, 16 * 5 * 5)\n",
        "        x = F.relu(self.fc1(x))\n",
        "        x = F.relu(self.fc2(x))\n",
        "        x = self.fc3(x)\n",
        "\n",
        "        return x\n",
        "\n"
      ]
    },
    {
      "cell_type": "code",
      "execution_count": 91,
      "metadata": {
        "id": "IYhy-0JR6HJT"
      },
      "outputs": [],
      "source": [
        "CNet = ConvNet().to(device)"
      ]
    },
    {
      "cell_type": "code",
      "execution_count": 92,
      "metadata": {
        "id": "fzWqoIXX6HJT"
      },
      "outputs": [],
      "source": [
        "n_epochs=50"
      ]
    },
    {
      "cell_type": "code",
      "execution_count": 93,
      "metadata": {
        "id": "I12Iq1GA6HJU"
      },
      "outputs": [],
      "source": [
        "import torch.optim as optim\n",
        "\n",
        "criterion = nn.CrossEntropyLoss()\n",
        "optimizer = optim.SGD(CNet.parameters(),lr=0.001,momentum=0.9)"
      ]
    },
    {
      "cell_type": "code",
      "execution_count": 94,
      "metadata": {
        "colab": {
          "base_uri": "https://localhost:8080/"
        },
        "id": "u-SNai796HJU",
        "outputId": "b76eee6e-485d-4c53-f5ea-67941eea4273"
      },
      "outputs": [
        {
          "output_type": "stream",
          "name": "stdout",
          "text": [
            "epoch 0 loss 2.1257851123809814\n",
            "epoch 1 loss 1.576432704925537\n",
            "epoch 2 loss 1.3189332485198975\n",
            "epoch 3 loss 1.4112789630889893\n",
            "epoch 4 loss 1.1378744840621948\n",
            "epoch 5 loss 1.1495403051376343\n",
            "epoch 6 loss 1.5470020771026611\n",
            "epoch 7 loss 1.0441465377807617\n",
            "epoch 8 loss 0.9454008340835571\n",
            "epoch 9 loss 0.7779728174209595\n",
            "epoch 10 loss 1.729257583618164\n",
            "epoch 11 loss 1.0304460525512695\n",
            "epoch 12 loss 1.112605094909668\n",
            "epoch 13 loss 0.7269333004951477\n",
            "epoch 14 loss 1.0185996294021606\n",
            "epoch 15 loss 0.7279646396636963\n",
            "epoch 16 loss 0.8086742162704468\n",
            "epoch 17 loss 1.2158716917037964\n",
            "epoch 18 loss 0.6407434940338135\n",
            "epoch 19 loss 0.8842428922653198\n",
            "epoch 20 loss 0.4136219918727875\n",
            "epoch 21 loss 1.2482163906097412\n",
            "epoch 22 loss 0.8083066940307617\n",
            "epoch 23 loss 0.8673924207687378\n",
            "epoch 24 loss 0.37565580010414124\n",
            "epoch 25 loss 0.7515599727630615\n",
            "epoch 26 loss 0.49682578444480896\n",
            "epoch 27 loss 1.019935965538025\n",
            "epoch 28 loss 0.22253413498401642\n",
            "epoch 29 loss 0.8996604681015015\n",
            "epoch 30 loss 0.6147831082344055\n",
            "epoch 31 loss 0.3765335977077484\n",
            "epoch 32 loss 0.7672823667526245\n",
            "epoch 33 loss 0.9208364486694336\n",
            "epoch 34 loss 0.7395948171615601\n",
            "epoch 35 loss 0.8516701459884644\n",
            "epoch 36 loss 0.5866488814353943\n",
            "epoch 37 loss 0.2665374279022217\n",
            "epoch 38 loss 0.233499675989151\n",
            "epoch 39 loss 0.4072664678096771\n",
            "epoch 40 loss 0.5258951783180237\n",
            "epoch 41 loss 0.6205877661705017\n",
            "epoch 42 loss 0.7705783843994141\n",
            "epoch 43 loss 0.1889173984527588\n",
            "epoch 44 loss 0.7236993312835693\n",
            "epoch 45 loss 0.4328238368034363\n",
            "epoch 46 loss 0.43785589933395386\n",
            "epoch 47 loss 0.4920389652252197\n",
            "epoch 48 loss 0.509610652923584\n",
            "epoch 49 loss 0.22958628833293915\n"
          ]
        }
      ],
      "source": [
        "for ep in range(n_epochs):\n",
        "    for int,x in enumerate(trainloader,0):\n",
        "        image,label = x\n",
        "        image = image.to(device)\n",
        "        label = label.to(device)\n",
        "        y_pred = CNet(image)\n",
        "        loss = criterion(y_pred,label)\n",
        "        \n",
        "\n",
        "\n",
        "        optimizer.zero_grad()\n",
        "        loss.backward()\n",
        "        optimizer.step()\n",
        "    print(f'epoch {ep} loss {loss}')    \n"
      ]
    },
    {
      "cell_type": "code",
      "execution_count": 95,
      "metadata": {
        "colab": {
          "base_uri": "https://localhost:8080/"
        },
        "id": "AzcSI4sW6HJV",
        "outputId": "df695be4-8110-4b8f-efb7-d398dbb98d1f"
      },
      "outputs": [
        {
          "output_type": "stream",
          "name": "stdout",
          "text": [
            "Accuracy of the network on the 10000 test images: 63 %\n"
          ]
        }
      ],
      "source": [
        "correct = 0\n",
        "total = 0\n",
        "with torch.no_grad():\n",
        "\n",
        "    for i,batch in enumerate(testloader):\n",
        "        images,label = batch\n",
        "        images,label = images.to(device),label.to(device)\n",
        "        prediction = CNet(images)  #recall that prediction is a tensor of shape B x N_Classes\n",
        "        maximum,pred_indices = torch.max(prediction,dim=1)\n",
        "        c = (pred_indices == label)\n",
        "        correct += c.sum().item()\n",
        "        total += label.size(0)\n",
        "    print('Accuracy of the network on the 10000 test images: %d %%' % (\n",
        "    100 * correct / total))    \n",
        "\n",
        "\n",
        "            \n",
        "            \n",
        "\n",
        "        \n",
        "\n",
        "        "
      ]
    }
  ],
  "metadata": {
    "kernelspec": {
      "display_name": "siren",
      "language": "python",
      "name": "python3"
    },
    "language_info": {
      "codemirror_mode": {
        "name": "ipython",
        "version": 3
      },
      "file_extension": ".py",
      "mimetype": "text/x-python",
      "name": "python",
      "nbconvert_exporter": "python",
      "pygments_lexer": "ipython3",
      "version": "3.8.8"
    },
    "orig_nbformat": 4,
    "vscode": {
      "interpreter": {
        "hash": "3fd7d50f492f92212f299a8845947e0f7f02130f4b765f0bc56fac9269ca963c"
      }
    },
    "colab": {
      "provenance": []
    },
    "accelerator": "GPU",
    "gpuClass": "standard"
  },
  "nbformat": 4,
  "nbformat_minor": 0
}