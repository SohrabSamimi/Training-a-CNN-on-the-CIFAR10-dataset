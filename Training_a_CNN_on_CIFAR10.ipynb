{
  "cells": [
    {
      "cell_type": "markdown",
      "metadata": {
        "id": "view-in-github",
        "colab_type": "text"
      },
      "source": [
        "<a href=\"https://colab.research.google.com/github/SohrabSamimi/Training-a-CNN-on-the-CIFAR10-dataset/blob/main/Training_a_CNN_on_CIFAR10.ipynb\" target=\"_parent\"><img src=\"https://colab.research.google.com/assets/colab-badge.svg\" alt=\"Open In Colab\"/></a>"
      ]
    },
    {
      "cell_type": "code",
      "execution_count": 108,
      "metadata": {
        "id": "_N7NinMp6HJG"
      },
      "outputs": [],
      "source": [
        "import math\n",
        "import torch\n",
        "import torch.nn as nn\n",
        "device = torch.device('cuda:0')\n"
      ]
    },
    {
      "cell_type": "code",
      "execution_count": 109,
      "metadata": {
        "id": "i5N1BqKo6HJM"
      },
      "outputs": [],
      "source": [
        "%matplotlib inline"
      ]
    },
    {
      "cell_type": "code",
      "execution_count": 110,
      "metadata": {
        "id": "ijyuuTIM6HJM"
      },
      "outputs": [],
      "source": [
        "import torch\n",
        "import numpy as np\n",
        "import torchvision\n",
        "import torchvision.transforms as transforms\n",
        "import matplotlib.pyplot as plt"
      ]
    },
    {
      "cell_type": "code",
      "execution_count": 111,
      "metadata": {
        "colab": {
          "base_uri": "https://localhost:8080/"
        },
        "id": "Dh8ZsT096HJN",
        "outputId": "ee355469-cb1f-4f66-b7bd-ef7ce2498c97"
      },
      "outputs": [
        {
          "output_type": "stream",
          "name": "stdout",
          "text": [
            "Files already downloaded and verified\n",
            "Files already downloaded and verified\n"
          ]
        }
      ],
      "source": [
        "transform = transforms.Compose(\n",
        "             [transforms.ToTensor(),\n",
        "             transforms.Normalize((0.5,0.5,0.5),(0.5,0.5,0.5))])\n",
        "\n",
        "trainset = torchvision.datasets.CIFAR10(root='./data',train=True,\n",
        "                                        download=True,transform=transform)  \n",
        "\n",
        "trainloader = torch.utils.data.DataLoader(trainset,batch_size=30,num_workers=4,\n",
        "                                          shuffle=True)\n",
        "\n",
        "testset = torchvision.datasets.CIFAR10(root='./data', train=False,\n",
        "                                       download=True, transform=transform)\n",
        "testloader = torch.utils.data.DataLoader(testset, batch_size=30,num_workers=4,\n",
        "                                         shuffle=False)\n",
        "\n",
        "classes = ('plane', 'car', 'bird', 'cat',\n",
        "           'deer', 'dog', 'frog', 'horse', 'ship', 'truck')                                          "
      ]
    },
    {
      "cell_type": "code",
      "execution_count": 112,
      "metadata": {
        "id": "tOaR5lm86HJO"
      },
      "outputs": [],
      "source": [
        "def imshow(img):\n",
        "    a = img/2 + 0.5\n",
        "    npimg = a.numpy()\n",
        "    plt.imshow(np.transpose(a,(1,2,0)))\n",
        "    plt.show()"
      ]
    },
    {
      "cell_type": "markdown",
      "source": [
        "We show below 10 images of the dataset and then print the associated class"
      ],
      "metadata": {
        "id": "2sdP_ymN7qkp"
      }
    },
    {
      "cell_type": "code",
      "execution_count": 113,
      "metadata": {
        "colab": {
          "base_uri": "https://localhost:8080/",
          "height": 417
        },
        "id": "84cQRend6HJP",
        "outputId": "50d9432d-8d74-4995-f973-92f976e50725"
      },
      "outputs": [
        {
          "output_type": "stream",
          "name": "stdout",
          "text": [
            "torch.Size([30, 3, 32, 32])\n"
          ]
        },
        {
          "output_type": "stream",
          "name": "stderr",
          "text": [
            "Exception ignored in: <function _MultiProcessingDataLoaderIter.__del__ at 0x7f5205bb3c10>Exception ignored in: \n",
            "<function _MultiProcessingDataLoaderIter.__del__ at 0x7f5205bb3c10>Traceback (most recent call last):\n",
            "\n",
            "Traceback (most recent call last):\n",
            "  File \"/usr/local/lib/python3.8/dist-packages/torch/utils/data/dataloader.py\", line 1466, in __del__\n",
            "  File \"/usr/local/lib/python3.8/dist-packages/torch/utils/data/dataloader.py\", line 1466, in __del__\n",
            "        self._shutdown_workers()self._shutdown_workers()\n",
            "  File \"/usr/local/lib/python3.8/dist-packages/torch/utils/data/dataloader.py\", line 1449, in _shutdown_workers\n",
            "    \n",
            "if w.is_alive():  File \"/usr/local/lib/python3.8/dist-packages/torch/utils/data/dataloader.py\", line 1449, in _shutdown_workers\n",
            "\n",
            "    if w.is_alive():  File \"/usr/lib/python3.8/multiprocessing/process.py\", line 160, in is_alive\n",
            "    \n",
            "assert self._parent_pid == os.getpid(), 'can only test a child process'  File \"/usr/lib/python3.8/multiprocessing/process.py\", line 160, in is_alive\n",
            "    \n",
            "assert self._parent_pid == os.getpid(), 'can only test a child process'AssertionError\n",
            "AssertionError: can only test a child process: can only test a child process\n",
            "\n"
          ]
        },
        {
          "output_type": "display_data",
          "data": {
            "text/plain": [
              "<Figure size 432x288 with 1 Axes>"
            ],
            "image/png": "[encoded data removed]"
          },
          "metadata": {
            "needs_background": "light"
          }
        }
      ],
      "source": [
        "dataiter = iter(trainloader)\n",
        "images,labels = next(dataiter)\n",
        "print(images.shape)\n",
        "imshow(torchvision.utils.make_grid(images[:10],nrow=10))\n"
      ]
    },
    {
      "cell_type": "code",
      "execution_count": 114,
      "metadata": {
        "colab": {
          "base_uri": "https://localhost:8080/"
        },
        "id": "vlMLpMY-6HJR",
        "outputId": "e7347a08-966d-4461-ef79-76c76a61ec8e"
      },
      "outputs": [
        {
          "output_type": "stream",
          "name": "stdout",
          "text": [
            " ship  ship   dog  bird  deer  bird horse  frog  frog plane\n"
          ]
        }
      ],
      "source": [
        "print(' '.join('%5s' % classes[labels[j]] for j in range(10)))"
      ]
    },
    {
      "cell_type": "code",
      "execution_count": 115,
      "metadata": {
        "id": "1iF3T4Ne6HJS"
      },
      "outputs": [],
      "source": [
        "import torch.nn.functional as F\n",
        "\n",
        "class ConvNet(nn.Module):\n",
        "\n",
        "    def __init__(self):\n",
        "        super(ConvNet,self).__init__()\n",
        "\n",
        "        self.conv1 = nn.Conv2d(3,6,5)     # 3 is the nb of input channels(RGB image),\n",
        "                                          # 6 is the desired number of output channels, 5 is the kernel size\n",
        "        self.max_pool = nn.MaxPool2d(2,2) # reduces (again) the image size by taking the max over 2x2 patches\n",
        "        self.conv2 = nn.Conv2d(6,16,5)\n",
        "        self.fc1 = nn.Linear(16*5*5,120) # to understand why we use 16*5*5 take a look at the forward below\n",
        "        self.fc2 = nn.Linear(120, 84)\n",
        "        self.fc3 = nn.Linear(84, 10)\n",
        "        # we use 10 as the final number of neurons because there are 10 classes\n",
        "\n",
        "    def forward(self,x):\n",
        "        \n",
        "        x = self.max_pool(F.relu(self.conv1(x)))   \n",
        "        x = self.max_pool(F.relu(self.conv2(x))) \n",
        "        x = x.view(-1, 16 * 5 * 5)\n",
        "        x = F.relu(self.fc1(x))\n",
        "        x = F.relu(self.fc2(x))\n",
        "        x = self.fc3(x)\n",
        "\n",
        "        return x\n",
        "\n"
      ]
    },
    {
      "cell_type": "code",
      "execution_count": 116,
      "metadata": {
        "id": "IYhy-0JR6HJT"
      },
      "outputs": [],
      "source": [
        "CNet = ConvNet().to(device)"
      ]
    },
    {
      "cell_type": "code",
      "execution_count": 117,
      "metadata": {
        "id": "fzWqoIXX6HJT"
      },
      "outputs": [],
      "source": [
        "n_epochs=40"
      ]
    },
    {
      "cell_type": "code",
      "execution_count": 118,
      "metadata": {
        "id": "I12Iq1GA6HJU"
      },
      "outputs": [],
      "source": [
        "import torch.optim as optim\n",
        "\n",
        "criterion = nn.CrossEntropyLoss()\n",
        "optimizer = optim.SGD(CNet.parameters(),lr=0.001,momentum=0.9)"
      ]
    },
    {
      "cell_type": "code",
      "execution_count": 119,
      "metadata": {
        "colab": {
          "base_uri": "https://localhost:8080/"
        },
        "id": "u-SNai796HJU",
        "outputId": "8530136c-ed3e-4ea8-fd36-27eb194039a1"
      },
      "outputs": [
        {
          "output_type": "stream",
          "name": "stdout",
          "text": [
            "epoch 0 loss 1.7491216659545898\n",
            "epoch 1 loss 1.7160930633544922\n",
            "epoch 2 loss 1.418973684310913\n",
            "epoch 3 loss 2.080190896987915\n",
            "epoch 4 loss 1.4492571353912354\n",
            "epoch 5 loss 1.4727989435195923\n",
            "epoch 6 loss 1.0014984607696533\n",
            "epoch 7 loss 1.2606950998306274\n",
            "epoch 8 loss 1.1950805187225342\n",
            "epoch 9 loss 0.8865969777107239\n",
            "epoch 10 loss 0.9072355031967163\n",
            "epoch 11 loss 0.8814965486526489\n",
            "epoch 12 loss 0.6407976150512695\n",
            "epoch 13 loss 0.5763235688209534\n",
            "epoch 14 loss 0.864924430847168\n",
            "epoch 15 loss 1.1092674732208252\n",
            "epoch 16 loss 0.5544010400772095\n",
            "epoch 17 loss 1.0779374837875366\n",
            "epoch 18 loss 0.9769724607467651\n",
            "epoch 19 loss 0.8482653498649597\n",
            "epoch 20 loss 0.6951443552970886\n",
            "epoch 21 loss 0.6492705345153809\n",
            "epoch 22 loss 1.0042816400527954\n",
            "epoch 23 loss 0.939090371131897\n",
            "epoch 24 loss 0.6967347860336304\n",
            "epoch 25 loss 1.1088054180145264\n",
            "epoch 26 loss 0.6693886518478394\n",
            "epoch 27 loss 0.5921821594238281\n",
            "epoch 28 loss 0.6544281244277954\n",
            "epoch 29 loss 0.5096521377563477\n",
            "epoch 30 loss 0.770697295665741\n",
            "epoch 31 loss 0.43938764929771423\n",
            "epoch 32 loss 0.590679407119751\n",
            "epoch 33 loss 0.5963807106018066\n",
            "epoch 34 loss 0.7038606405258179\n",
            "epoch 35 loss 0.3621289134025574\n",
            "epoch 36 loss 0.5113543272018433\n",
            "epoch 37 loss 1.0401113033294678\n",
            "epoch 38 loss 0.8576777577400208\n",
            "epoch 39 loss 0.5130876302719116\n"
          ]
        }
      ],
      "source": [
        "for ep in range(n_epochs):\n",
        "    for int,x in enumerate(trainloader,0):\n",
        "        image,label = x\n",
        "        image = image.to(device)\n",
        "        label = label.to(device)\n",
        "        y_pred = CNet(image)\n",
        "        loss = criterion(y_pred,label)\n",
        "        \n",
        "\n",
        "\n",
        "        optimizer.zero_grad()\n",
        "        loss.backward()\n",
        "        optimizer.step()\n",
        "    print(f'epoch {ep} loss {loss}')    \n"
      ]
    },
    {
      "cell_type": "code",
      "execution_count": 120,
      "metadata": {
        "colab": {
          "base_uri": "https://localhost:8080/"
        },
        "id": "AzcSI4sW6HJV",
        "outputId": "87c5bdb3-62ef-415d-fd87-db808765023a"
      },
      "outputs": [
        {
          "output_type": "stream",
          "name": "stdout",
          "text": [
            "Accuracy of the network on the 10000 test images: 66 %\n"
          ]
        }
      ],
      "source": [
        "correct = 0\n",
        "total = 0\n",
        "with torch.no_grad():\n",
        "\n",
        "    for i,batch in enumerate(testloader):\n",
        "        images,label = batch\n",
        "        images,label = images.to(device),label.to(device)\n",
        "        prediction = CNet(images)  #recall that prediction is a tensor of shape B x N_Classes\n",
        "        maximum,pred_indices = torch.max(prediction,dim=1)\n",
        "        c = (pred_indices == label)\n",
        "        correct += c.sum().item()\n",
        "        total += label.size(0)\n",
        "    print('Accuracy of the network on the 10000 test images: %d %%' % (\n",
        "    100 * correct / total))    \n",
        "\n",
        "\n",
        "            \n",
        "            \n",
        "\n",
        "        \n",
        "\n",
        "        "
      ]
    }
  ],
  "metadata": {
    "kernelspec": {
      "display_name": "siren",
      "language": "python",
      "name": "python3"
    },
    "language_info": {
      "codemirror_mode": {
        "name": "ipython",
        "version": 3
      },
      "file_extension": ".py",
      "mimetype": "text/x-python",
      "name": "python",
      "nbconvert_exporter": "python",
      "pygments_lexer": "ipython3",
      "version": "3.8.8"
    },
    "orig_nbformat": 4,
    "vscode": {
      "interpreter": {
        "hash": "3fd7d50f492f92212f299a8845947e0f7f02130f4b765f0bc56fac9269ca963c"
      }
    },
    "colab": {
      "provenance": [],
      "include_colab_link": true
    },
    "accelerator": "GPU",
    "gpuClass": "standard"
  },
  "nbformat": 4,
  "nbformat_minor": 0
}